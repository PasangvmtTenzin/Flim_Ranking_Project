{
 "cells": [
  {
   "cell_type": "code",
   "execution_count": 2,
   "metadata": {},
   "outputs": [],
   "source": [
    "import pandas as pd"
   ]
  },
  {
   "cell_type": "code",
   "execution_count": 3,
   "metadata": {},
   "outputs": [],
   "source": [
    "flim_path = 'merged_data/merged_cinematic_data.csv'\n",
    "pop_path = 'merged_data/population_economic_data.csv'"
   ]
  },
  {
   "cell_type": "code",
   "execution_count": 4,
   "metadata": {},
   "outputs": [],
   "source": [
    "cinematic_data = pd.read_csv(flim_path)\n",
    "economic_data = pd.read_csv(pop_path)\n",
    "\n",
    "# Country code mapping \n",
    "country_code_mapping = {\n",
    "    'AD': 'AND', 'AE': 'ARE', 'AF': 'AFG', 'AG': 'ATG', 'AI': 'AIA',\n",
    "    'AL': 'ALB', 'AM': 'ARM', 'AN': 'ANT', 'AO': 'AGO', 'AQ': 'ATA',\n",
    "    'AR': 'ARG', 'AS': 'ASM', 'AT': 'AUT', 'AU': 'AUS', 'AW': 'ABW',\n",
    "    'AZ': 'AZE', 'BA': 'BIH', 'BB': 'BRB', 'BD': 'BGD', 'BE': 'BEL',\n",
    "    'BF': 'BFA', 'BG': 'BGR', 'BH': 'BHR', 'BI': 'BDI', 'BJ': 'BEN',\n",
    "    'BM': 'BMU', 'BN': 'BRN', 'BO': 'BOL', 'BR': 'BRA', 'BS': 'BHS',\n",
    "    'BT': 'BTN', 'BW': 'BWA', 'BY': 'BLR', 'BZ': 'BLZ', 'CA': 'CAN',\n",
    "    'CD': 'COD', 'CF': 'CAF', 'CG': 'COG', 'CH': 'CHE', 'CI': 'CIV',\n",
    "    'CK': 'COK', 'CL': 'CHL', 'CM': 'CMR', 'CN': 'CHN', 'CO': 'COL',\n",
    "    'CR': 'CRI', 'CU': 'CUB', 'CV': 'CPV', 'CW': 'CUW', 'CY': 'CYP',\n",
    "    'CZ': 'CZE', 'DE': 'DEU', 'DJ': 'DJI', 'DK': 'DNK', 'DM': 'DMA',\n",
    "    'DO': 'DOM', 'DZ': 'DZA', 'EC': 'ECU', 'EE': 'EST', 'EG': 'EGY',\n",
    "    'ER': 'ERI', 'ES': 'ESP', 'ET': 'ETH', 'FI': 'FIN', 'FJ': 'FJI',\n",
    "    'FO': 'FRO', 'FR': 'FRA', 'GA': 'GAB', 'GB': 'GBR', 'GD': 'GRD',\n",
    "    'GE': 'GEO', 'GF': 'GUF', 'GH': 'GHA', 'GI': 'GIB', 'GL': 'GRL',\n",
    "    'GM': 'GMB', 'GN': 'GIN', 'GP': 'GLP', 'GQ': 'GNQ', 'GR': 'GRC',\n",
    "    'GT': 'GTM', 'GU': 'GUM', 'GW': 'GNB', 'GY': 'GUY', 'HK': 'HKG',\n",
    "    'HN': 'HND', 'HR': 'HRV', 'HT': 'HTI', 'HU': 'HUN', 'ID': 'IDN',\n",
    "    'IE': 'IRL', 'IL': 'ISR', 'IN': 'IND', 'IQ': 'IRQ', 'IR': 'IRN',\n",
    "    'IS': 'ISL', 'IT': 'ITA', 'JM': 'JAM', 'JO': 'JOR', 'JP': 'JPN',\n",
    "    'KE': 'KEN', 'KG': 'KGZ', 'KH': 'KHM', 'KM': 'COM', 'KN': 'KNA',\n",
    "    'KP': 'PRK', 'KR': 'KOR', 'KW': 'KWT', 'KY': 'CYM', 'KZ': 'KAZ',\n",
    "    'LA': 'LAO', 'LB': 'LBN', 'LC': 'LCA', 'LI': 'LIE', 'LK': 'LKA',\n",
    "    'LR': 'LBR', 'LS': 'LSO', 'LT': 'LTU', 'LU': 'LUX', 'LV': 'LVA',\n",
    "    'LY': 'LBY', 'MA': 'MAR', 'MC': 'MCO', 'MD': 'MDA', 'ME': 'MNE',\n",
    "    'MG': 'MDG', 'MH': 'MHL', 'MK': 'MKD', 'ML': 'MLI', 'MM': 'MMR',\n",
    "    'MN': 'MNG', 'MO': 'MAC', 'MQ': 'MTQ', 'MR': 'MRT', 'MT': 'MLT',\n",
    "    'MU': 'MUS', 'MV': 'MDV', 'MW': 'MWI', 'MX': 'MEX', 'MY': 'MYS',\n",
    "    'MZ': 'MOZ', 'NA': 'NAM', 'NC': 'NCL', 'NE': 'NER', 'NG': 'NGA',\n",
    "    'NI': 'NIC', 'NL': 'NLD', 'NO': 'NOR', 'NP': 'NPL', 'NR': 'NRU',\n",
    "    'NZ': 'NZL', 'OM': 'OMN', 'PA': 'PAN', 'PE': 'PER', 'PF': 'PYF',\n",
    "    'PG': 'PNG', 'PH': 'PHL', 'PK': 'PAK', 'PL': 'POL', 'PT': 'PRT',\n",
    "    'PW': 'PLW', 'PY': 'PRY', 'QA': 'QAT', 'RO': 'ROU', 'RS': 'SRB',\n",
    "    'RU': 'RUS', 'RW': 'RWA', 'SA': 'SAU', 'SB': 'SLB', 'SC': 'SYC',\n",
    "    'SD': 'SDN', 'SE': 'SWE', 'SG': 'SGP', 'SI': 'SVN', 'SK': 'SVK',\n",
    "    'SL': 'SLE', 'SM': 'SMR', 'SN': 'SEN', 'SO': 'SOM', 'SR': 'SUR',\n",
    "    'ST': 'STP', 'SV': 'SLV', 'SY': 'SYR', 'SZ': 'SWZ', 'TC': 'TCA',\n",
    "    'TD': 'TCD', 'TG': 'TGO', 'TH': 'THA', 'TJ': 'TJK', 'TM': 'TKM',\n",
    "    'TN': 'TUN', 'TO': 'TON', 'TR': 'TUR', 'TT': 'TTO', 'TV': 'TUV',\n",
    "    'TZ': 'TZA', 'UA': 'UKR', 'UG': 'UGA', 'US': 'USA', 'UY': 'URY',\n",
    "    'UZ': 'UZB', 'VA': 'VAT', 'VC': 'VCT', 'VE': 'VEN', 'VG': 'VGB',\n",
    "    'VI': 'VIR', 'VN': 'VNM', 'VU': 'VUT', 'WS': 'WSM', 'YE': 'YEM',\n",
    "    'ZA': 'ZAF', 'ZM': 'ZMB', 'ZW': 'ZWE'\n",
    "}\n",
    "\n",
    "# Apply the mapping to the cinematic data\n",
    "cinematic_data['Country_Code'] = cinematic_data['region'].map(country_code_mapping)\n",
    "\n",
    "# Drop rows where the country code mapping was not found\n",
    "cinematic_data = cinematic_data.dropna(subset=['Country_Code'])\n",
    "\n",
    "# Re-group by the new country code and aggregate the votes and quality scores\n",
    "cinematic_data_grouped = cinematic_data.groupby('Country_Code').agg(\n",
    "    total_votes=('numVotes', 'sum'),\n",
    "    average_quality_score=('averageRating', 'mean')\n",
    ").reset_index()\n",
    "\n",
    "# Merge the Data\n",
    "merged_data = pd.merge(cinematic_data_grouped, economic_data, on='Country_Code')"
   ]
  },
  {
   "cell_type": "code",
   "execution_count": 5,
   "metadata": {},
   "outputs": [],
   "source": [
    "# Calculate the ranks\n",
    "merged_data['population_rank'] = merged_data['Population'].rank(ascending=False)\n",
    "merged_data['gdp_rank'] = merged_data['GDP'].rank(ascending=False)\n",
    "merged_data['gdp_per_capita_rank'] = merged_data['GDP_per_Capital'].rank(ascending=False)\n",
    "merged_data['total_votes_rank'] = merged_data['total_votes'].rank(ascending=False)\n",
    "merged_data['average_quality_rank'] = merged_data['average_quality_score'].rank(ascending=False)\n",
    "\n",
    "# Compute hegemony\n",
    "merged_data['strong_hegemony'] = merged_data['gdp_rank'] - merged_data['average_quality_rank']\n",
    "merged_data['weak_hegemony'] = merged_data['gdp_rank'] - merged_data['total_votes_rank']\n",
    "data = merged_data.sort_values(by=['Year'], ascending=True)\n"
   ]
  },
  {
   "cell_type": "code",
   "execution_count": 6,
   "metadata": {},
   "outputs": [
    {
     "name": "stdout",
     "output_type": "stream",
     "text": [
      "<class 'pandas.core.frame.DataFrame'>\n",
      "Index: 9994 entries, 3854 to 9993\n",
      "Data columns (total 16 columns):\n",
      " #   Column                 Non-Null Count  Dtype  \n",
      "---  ------                 --------------  -----  \n",
      " 0   Country_Code           9994 non-null   object \n",
      " 1   total_votes            9994 non-null   int64  \n",
      " 2   average_quality_score  9994 non-null   float64\n",
      " 3   Unnamed: 0             9994 non-null   int64  \n",
      " 4   Year                   9994 non-null   int64  \n",
      " 5   GDP                    9994 non-null   int64  \n",
      " 6   Population             9994 non-null   float64\n",
      " 7   Country_Name           9994 non-null   object \n",
      " 8   GDP_per_Capital        9994 non-null   float64\n",
      " 9   population_rank        9994 non-null   float64\n",
      " 10  gdp_rank               9994 non-null   float64\n",
      " 11  gdp_per_capita_rank    9994 non-null   float64\n",
      " 12  total_votes_rank       9994 non-null   float64\n",
      " 13  average_quality_rank   9994 non-null   float64\n",
      " 14  strong_hegemony        9994 non-null   float64\n",
      " 15  weak_hegemony          9994 non-null   float64\n",
      "dtypes: float64(10), int64(4), object(2)\n",
      "memory usage: 1.3+ MB\n"
     ]
    }
   ],
   "source": [
    "data.info()"
   ]
  },
  {
   "cell_type": "code",
   "execution_count": 7,
   "metadata": {},
   "outputs": [],
   "source": [
    "import plotly.express as px"
   ]
  },
  {
   "cell_type": "code",
   "execution_count": 9,
   "metadata": {},
   "outputs": [],
   "source": [
    "filtered_data = data[data['strong_hegemony'] >= 0]\n"
   ]
  }
 ],
 "metadata": {
  "kernelspec": {
   "display_name": "Python 3",
   "language": "python",
   "name": "python3"
  },
  "language_info": {
   "codemirror_mode": {
    "name": "ipython",
    "version": 3
   },
   "file_extension": ".py",
   "mimetype": "text/x-python",
   "name": "python",
   "nbconvert_exporter": "python",
   "pygments_lexer": "ipython3",
   "version": "3.10.11"
  }
 },
 "nbformat": 4,
 "nbformat_minor": 2
}
