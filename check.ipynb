{
 "cells": [
  {
   "cell_type": "code",
   "execution_count": 1,
   "metadata": {},
   "outputs": [],
   "source": [
    "import pandas as pd\n",
    "import numpy as np\n",
    "from sklearn.model_selection import train_test_split\n",
    "from sklearn.linear_model import LinearRegression\n",
    "from sklearn.tree import DecisionTreeRegressor\n",
    "from sklearn.ensemble import GradientBoostingRegressor\n",
    "from xgboost import XGBRegressor\n",
    "from sklearn.metrics import mean_squared_error, r2_score\n",
    "from sklearn.preprocessing import StandardScaler\n"
   ]
  },
  {
   "cell_type": "code",
   "execution_count": 2,
   "metadata": {},
   "outputs": [],
   "source": [
    "# Load the data\n",
    "file_path = 'merged_data/final_data.csv'\n",
    "data = pd.read_csv(file_path)"
   ]
  },
  {
   "cell_type": "code",
   "execution_count": 3,
   "metadata": {},
   "outputs": [],
   "source": [
    "# Define thresholds for masterpieces and flops\n",
    "masterpiece_threshold = 8.0\n",
    "flop_threshold = 4.0"
   ]
  },
  {
   "cell_type": "code",
   "execution_count": 4,
   "metadata": {},
   "outputs": [],
   "source": [
    "# Create new features for masterpieces and flops\n",
    "data['is_masterpiece'] = data['average_quality_score'] >= masterpiece_threshold\n",
    "data['is_flop'] = data['average_quality_score'] <= flop_threshold\n",
    "\n",
    "# Aggregate the number of masterpieces and flops by country\n",
    "masterpieces_per_country = data.groupby('Country_Code')['is_masterpiece'].sum().reset_index()\n",
    "flops_per_country = data.groupby('Country_Code')['is_flop'].sum().reset_index()\n",
    "\n",
    "# Merge the new features back into the main dataframe\n",
    "data = pd.merge(data, masterpieces_per_country, on='Country_Code', suffixes=('', '_total_masterpieces'))\n",
    "data = pd.merge(data, flops_per_country, on='Country_Code', suffixes=('', '_total_flops'))\n",
    "\n",
    "# Compute variance in movie ratings for each country\n",
    "variance_per_country = data.groupby('Country_Code')['average_quality_score'].var().reset_index()\n",
    "variance_per_country.rename(columns={'average_quality_score': 'rating_variance'}, inplace=True)\n",
    "\n",
    "# Merge the variance feature back into the main dataframe\n",
    "data = pd.merge(data, variance_per_country, on='Country_Code')"
   ]
  },
  {
   "cell_type": "code",
   "execution_count": 5,
   "metadata": {},
   "outputs": [
    {
     "name": "stderr",
     "output_type": "stream",
     "text": [
      "C:\\Users\\Dell\\AppData\\Local\\Temp\\ipykernel_7928\\4220070646.py:3: DeprecationWarning: DataFrameGroupBy.apply operated on the grouping columns. This behavior is deprecated, and in a future version of pandas the grouping columns will be excluded from the operation. Either pass `include_groups=False` to exclude the groupings or explicitly select the grouping columns after groupby to silence this warning.\n",
      "  top_x_movies_per_country = data.groupby('Country_Code').apply(lambda x: x.nlargest(top_x, 'average_quality_score')).reset_index(drop=True)\n"
     ]
    }
   ],
   "source": [
    "# Analyze the top X movies (e.g., top 10) for each country\n",
    "top_x = 10\n",
    "top_x_movies_per_country = data.groupby('Country_Code').apply(lambda x: x.nlargest(top_x, 'average_quality_score')).reset_index(drop=True)\n",
    "average_top_x_ratings = top_x_movies_per_country.groupby('Country_Code')['average_quality_score'].mean().reset_index()\n",
    "average_top_x_ratings.rename(columns={'average_quality_score': 'average_top_x_ratings'}, inplace=True)\n",
    "\n",
    "# Merge the top X ratings feature back into the main dataframe\n",
    "data = pd.merge(data, average_top_x_ratings, on='Country_Code')"
   ]
  },
  {
   "cell_type": "code",
   "execution_count": 6,
   "metadata": {},
   "outputs": [],
   "source": [
    "# Normalize the numerical features\n",
    "numerical_features = ['total_votes', 'average_quality_score', 'GDP', 'Population', \n",
    "                      'GDP_per_Capital', 'population_rank', 'gdp_rank', \n",
    "                      'gdp_per_capita_rank', 'total_votes_rank', 'average_quality_rank', \n",
    "                      'is_masterpiece_total_masterpieces', 'is_flop_total_flops', \n",
    "                      'rating_variance', 'average_top_x_ratings']\n",
    "\n",
    "scaler = StandardScaler()\n",
    "data[numerical_features] = scaler.fit_transform(data[numerical_features])"
   ]
  },
  {
   "cell_type": "code",
   "execution_count": 7,
   "metadata": {},
   "outputs": [],
   "source": [
    "# Define the features and target variables\n",
    "X = data[numerical_features + ['Country_Code']]\n",
    "y_strong = data['strong_hegemony']\n",
    "y_weak = data['weak_hegemony']\n"
   ]
  },
  {
   "cell_type": "code",
   "execution_count": 8,
   "metadata": {},
   "outputs": [],
   "source": [
    "# One-hot encoding for the categorical feature 'Country_Code'\n",
    "X = pd.get_dummies(X, columns=['Country_Code'])\n",
    "\n",
    "# Split the data into training and testing sets for both target variables\n",
    "X_train_strong, X_test_strong, y_train_strong, y_test_strong = train_test_split(X, y_strong, test_size=0.2, random_state=42)\n",
    "X_train_weak, X_test_weak, y_train_weak, y_test_weak = train_test_split(X, y_weak, test_size=0.2, random_state=42)\n"
   ]
  },
  {
   "cell_type": "code",
   "execution_count": 9,
   "metadata": {},
   "outputs": [],
   "source": [
    "# Define a function to train and evaluate models\n",
    "def train_and_evaluate(model, X_train, X_test, y_train, y_test):\n",
    "    model.fit(X_train, y_train)\n",
    "    y_pred = model.predict(X_test)\n",
    "    mse = mean_squared_error(y_test, y_pred)\n",
    "    r2 = r2_score(y_test, y_pred)\n",
    "    return mse, r2"
   ]
  },
  {
   "cell_type": "code",
   "execution_count": 10,
   "metadata": {},
   "outputs": [],
   "source": [
    "# Initialize the models\n",
    "models = {\n",
    "    'Linear Regression': LinearRegression(),\n",
    "    'Decision Tree': DecisionTreeRegressor(),\n",
    "    'Gradient Boosting': GradientBoostingRegressor(),\n",
    "    'XGBoost': XGBRegressor()\n",
    "}\n"
   ]
  },
  {
   "cell_type": "code",
   "execution_count": 11,
   "metadata": {},
   "outputs": [],
   "source": [
    "# Train and evaluate the models for strong hegemony\n",
    "results_strong = {}\n",
    "for model_name, model in models.items():\n",
    "    mse, r2 = train_and_evaluate(model, X_train_strong, X_test_strong, y_train_strong, y_test_strong)\n",
    "    results_strong[model_name] = {'MSE': mse, 'R2': r2}\n",
    "\n",
    "# Train and evaluate the models for weak hegemony\n",
    "results_weak = {}\n",
    "for model_name, model in models.items():\n",
    "    mse, r2 = train_and_evaluate(model, X_train_weak, X_test_weak, y_train_weak, y_test_weak)\n",
    "    results_weak[model_name] = {'MSE': mse, 'R2': r2}"
   ]
  },
  {
   "cell_type": "code",
   "execution_count": 12,
   "metadata": {},
   "outputs": [
    {
     "name": "stdout",
     "output_type": "stream",
     "text": [
      "Strong Hegemony Results:\n",
      "Linear Regression - MSE: 4.231419054340598e-23, R2: 1.0\n",
      "Decision Tree - MSE: 10189.3024012006, R2: 0.9993923611737815\n",
      "Gradient Boosting - MSE: 34792.805161973294, R2: 0.9979251318238449\n",
      "XGBoost - MSE: 9162.681912291193, R2: 0.999453583664222\n",
      "\n",
      "Weak Hegemony Results:\n",
      "Linear Regression - MSE: 2.6311781124122382e-23, R2: 1.0\n",
      "Decision Tree - MSE: 10826.441970985492, R2: 0.997596166216431\n",
      "Gradient Boosting - MSE: 23961.970079035887, R2: 0.994679637746988\n",
      "XGBoost - MSE: 8039.906323355653, R2: 0.9982148707314363\n"
     ]
    }
   ],
   "source": [
    "# Display the results\n",
    "print(\"Strong Hegemony Results:\")\n",
    "for model_name, metrics in results_strong.items():\n",
    "    print(f\"{model_name} - MSE: {metrics['MSE']}, R2: {metrics['R2']}\")\n",
    "\n",
    "print(\"\\nWeak Hegemony Results:\")\n",
    "for model_name, metrics in results_weak.items():\n",
    "    print(f\"{model_name} - MSE: {metrics['MSE']}, R2: {metrics['R2']}\")"
   ]
  }
 ],
 "metadata": {
  "kernelspec": {
   "display_name": "Python 3",
   "language": "python",
   "name": "python3"
  },
  "language_info": {
   "codemirror_mode": {
    "name": "ipython",
    "version": 3
   },
   "file_extension": ".py",
   "mimetype": "text/x-python",
   "name": "python",
   "nbconvert_exporter": "python",
   "pygments_lexer": "ipython3",
   "version": "3.10.11"
  }
 },
 "nbformat": 4,
 "nbformat_minor": 2
}
