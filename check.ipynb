{
 "cells": [
  {
   "cell_type": "code",
   "execution_count": 1,
   "metadata": {},
   "outputs": [],
   "source": [
    "import pandas as pd\n",
    "import matplotlib.pyplot as plt\n",
    "import seaborn as sns"
   ]
  },
  {
   "cell_type": "code",
   "execution_count": 2,
   "metadata": {},
   "outputs": [],
   "source": [
    "file_path = 'merged_data/final_data.csv'\n"
   ]
  },
  {
   "cell_type": "code",
   "execution_count": 3,
   "metadata": {},
   "outputs": [],
   "source": [
    "data = pd.read_csv(file_path)"
   ]
  },
  {
   "cell_type": "code",
   "execution_count": 4,
   "metadata": {},
   "outputs": [
    {
     "name": "stdout",
     "output_type": "stream",
     "text": [
      "<class 'pandas.core.frame.DataFrame'>\n",
      "RangeIndex: 9994 entries, 0 to 9993\n",
      "Data columns (total 17 columns):\n",
      " #   Column                 Non-Null Count  Dtype  \n",
      "---  ------                 --------------  -----  \n",
      " 0   Unnamed: 0.1           9994 non-null   int64  \n",
      " 1   Country_Code           9994 non-null   object \n",
      " 2   total_votes            9994 non-null   int64  \n",
      " 3   average_quality_score  9994 non-null   float64\n",
      " 4   Unnamed: 0             9994 non-null   int64  \n",
      " 5   Year                   9994 non-null   int64  \n",
      " 6   GDP                    9994 non-null   int64  \n",
      " 7   Population             9994 non-null   float64\n",
      " 8   Country_Name           9994 non-null   object \n",
      " 9   GDP_per_Capital        9994 non-null   float64\n",
      " 10  population_rank        9994 non-null   float64\n",
      " 11  gdp_rank               9994 non-null   float64\n",
      " 12  gdp_per_capita_rank    9994 non-null   float64\n",
      " 13  total_votes_rank       9994 non-null   float64\n",
      " 14  average_quality_rank   9994 non-null   float64\n",
      " 15  strong_hegemony        9994 non-null   float64\n",
      " 16  weak_hegemony          9994 non-null   float64\n",
      "dtypes: float64(10), int64(5), object(2)\n",
      "memory usage: 1.3+ MB\n"
     ]
    }
   ],
   "source": [
    "data.info()"
   ]
  }
 ],
 "metadata": {
  "kernelspec": {
   "display_name": "Python 3",
   "language": "python",
   "name": "python3"
  },
  "language_info": {
   "codemirror_mode": {
    "name": "ipython",
    "version": 3
   },
   "file_extension": ".py",
   "mimetype": "text/x-python",
   "name": "python",
   "nbconvert_exporter": "python",
   "pygments_lexer": "ipython3",
   "version": "3.10.11"
  }
 },
 "nbformat": 4,
 "nbformat_minor": 2
}
